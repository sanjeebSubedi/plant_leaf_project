{
  "nbformat": 4,
  "nbformat_minor": 0,
  "metadata": {
    "colab": {
      "name": "predict_inputs_local_leaves.ipynb",
      "provenance": []
    },
    "kernelspec": {
      "name": "python3",
      "display_name": "Python 3"
    }
  },
  "cells": [
    {
      "cell_type": "code",
      "metadata": {
        "id": "pPWovlbwkTOR"
      },
      "source": [
        "from tensorflow import keras\n",
        "import cv2\n",
        "import numpy as np"
      ],
      "execution_count": 1,
      "outputs": []
    },
    {
      "cell_type": "code",
      "metadata": {
        "id": "7nfvzQQvkej7"
      },
      "source": [
        "indices = {0: 'Alien', 1: 'Guava', 2: 'Jackfruit', 3: 'Lychee', 4: 'Potato', 5: 'Rose'}"
      ],
      "execution_count": 2,
      "outputs": []
    },
    {
      "cell_type": "code",
      "metadata": {
        "id": "by_KuhVkmdn1"
      },
      "source": [
        "def preprocess_custom(image):\n",
        "  # image = remove_background(image)\n",
        "  image = cv2.imread(image)\n",
        "  img_normalized = image/255\n",
        "  img_resized = cv2.resize(img_normalized, (224,224))\n",
        "  img_reshaped = np.expand_dims(img_resized, axis=0)\n",
        "  return img_reshaped"
      ],
      "execution_count": 3,
      "outputs": []
    },
    {
      "cell_type": "code",
      "metadata": {
        "id": "yzIRZ9JimycF"
      },
      "source": [
        "def predict_custom(model, custom_image):\n",
        "  processed_img = preprocess_custom(custom_image)\n",
        "  prediction = model.predict(processed_img)\n",
        "  global indices\n",
        "  indices = {0: 'Alien', 1: 'Guava', 2: 'Jackfruit', 3: 'Lychee', 4: 'Potato', 5: 'Rose'}\n",
        "  answer = indices.get(np.argmax(prediction))\n",
        "  return answer"
      ],
      "execution_count": 5,
      "outputs": []
    },
    {
      "cell_type": "code",
      "metadata": {
        "id": "keOQ4wjUm0gm"
      },
      "source": [
        "def get_top_3(probability_array, indices):\n",
        "  top3 = list(probability_array.flatten().argsort()[-3:][::-1])\n",
        "  top_probs = {}\n",
        "  for item in top3:\n",
        "    label = indices.get(item)\n",
        "    label=label.replace('_', ' ').capitalize()\n",
        "    probab = probability_array.flatten()[item]\n",
        "    top_probs[label] = round((probab*100),2)\n",
        "  return top_probs"
      ],
      "execution_count": 6,
      "outputs": []
    },
    {
      "cell_type": "code",
      "metadata": {
        "id": "9oLb5KC0m-dF"
      },
      "source": [
        "def load_model(model_path):\n",
        "  model = keras.models.load_model(model_path)\n",
        "  return model"
      ],
      "execution_count": 7,
      "outputs": []
    },
    {
      "cell_type": "code",
      "metadata": {
        "colab": {
          "base_uri": "https://localhost:8080/"
        },
        "id": "_umRUqZKnAjm",
        "outputId": "f87436e0-7c1b-42a3-d2ee-5547c64b477d"
      },
      "source": [
        "loaded_model = load_model('/content/drive/MyDrive/local_leaves/models/mobilenet_model_6_classes.h5')\n",
        "image = preprocess_custom('/content/drive/MyDrive/local_leaves/valid/Rose/IMG_20210130_133758.jpg')\n",
        "answer = predict_custom(loaded_model, '/content/drive/MyDrive/local_leaves/valid/Rose/IMG_20210130_133758.jpg')\n",
        "print(answer)\n",
        "predicted_array = loaded_model.predict(image)\n",
        "get_top_3(predicted_array, indices)"
      ],
      "execution_count": 8,
      "outputs": [
        {
          "output_type": "stream",
          "text": [
            "Rose\n"
          ],
          "name": "stdout"
        },
        {
          "output_type": "execute_result",
          "data": {
            "text/plain": [
              "{'Alien': 0.23, 'Guava': 0.01, 'Rose': 99.75}"
            ]
          },
          "metadata": {
            "tags": []
          },
          "execution_count": 8
        }
      ]
    }
  ]
}