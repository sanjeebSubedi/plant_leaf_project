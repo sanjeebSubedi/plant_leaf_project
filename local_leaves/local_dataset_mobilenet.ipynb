{
  "nbformat": 4,
  "nbformat_minor": 0,
  "metadata": {
    "colab": {
      "name": "own_dataset_mobilenet.ipynb",
      "provenance": [],
      "collapsed_sections": []
    },
    "kernelspec": {
      "name": "python3",
      "display_name": "Python 3"
    },
    "accelerator": "GPU"
  },
  "cells": [
    {
      "cell_type": "code",
      "metadata": {
        "id": "7kOg6uADp3X8",
        "colab": {
          "base_uri": "https://localhost:8080/"
        },
        "outputId": "490b0ddb-e317-4cbf-d560-6726406433b5"
      },
      "source": [
        "from google.colab import drive\n",
        "drive.mount('/content/drive')"
      ],
      "execution_count": null,
      "outputs": [
        {
          "output_type": "stream",
          "text": [
            "Mounted at /content/drive\n"
          ],
          "name": "stdout"
        }
      ]
    },
    {
      "cell_type": "code",
      "metadata": {
        "id": "mIDTJR5K1Y-w"
      },
      "source": [
        "import os"
      ],
      "execution_count": null,
      "outputs": []
    },
    {
      "cell_type": "markdown",
      "metadata": {
        "id": "L-J7R9Jf7xPg"
      },
      "source": [
        "Check the number of images in the dataset."
      ]
    },
    {
      "cell_type": "code",
      "metadata": {
        "id": "DKkGkLlhYVNR"
      },
      "source": [
        "import numpy as np\n",
        "import matplotlib.pyplot as plt"
      ],
      "execution_count": null,
      "outputs": []
    },
    {
      "cell_type": "code",
      "metadata": {
        "id": "Bt2RhE5xjs6x"
      },
      "source": [
        "import pathlib\n",
        "import shutil"
      ],
      "execution_count": null,
      "outputs": []
    },
    {
      "cell_type": "code",
      "metadata": {
        "id": "_um5-ucA13_5"
      },
      "source": [
        "main_dir = '/content/drive/MyDrive/own_dataset'"
      ],
      "execution_count": null,
      "outputs": []
    },
    {
      "cell_type": "code",
      "metadata": {
        "id": "7BL15DZ9wclN",
        "colab": {
          "base_uri": "https://localhost:8080/"
        },
        "outputId": "a8be80be-9bb5-4f1f-e44b-62cd04e78148"
      },
      "source": [
        "# class_names = os.listdir(main_dir)\n",
        "class_names = os.listdir(valid_dir)\n",
        "class_names"
      ],
      "execution_count": null,
      "outputs": [
        {
          "output_type": "execute_result",
          "data": {
            "text/plain": [
              "['Jackfruit', 'Guava', 'Alien', 'Rose', 'Potato', 'Lychee']"
            ]
          },
          "metadata": {
            "tags": []
          },
          "execution_count": 6
        }
      ]
    },
    {
      "cell_type": "code",
      "metadata": {
        "id": "CCjbOLunk9Uo"
      },
      "source": [
        "for cname in class_names:\n",
        "  pathlib.Path('drive/MyDrive/local_leaves/train/'+cname).mkdir(parents=True, exist_ok=True)\n",
        "  pathlib.Path('drive/MyDrive/local_leaves/valid/'+cname).mkdir(parents=True, exist_ok=True)"
      ],
      "execution_count": null,
      "outputs": []
    },
    {
      "cell_type": "code",
      "metadata": {
        "id": "oStQAoxV4h3T"
      },
      "source": [
        "train_dir = 'drive/MyDrive/local_leaves/train/'\n",
        "valid_dir = 'drive/MyDrive/local_leaves/valid/'"
      ],
      "execution_count": null,
      "outputs": []
    },
    {
      "cell_type": "code",
      "metadata": {
        "id": "Bo_utNzdnG4y"
      },
      "source": [
        "np.random.seed(42)\n",
        "def split_train_valid(source_dir, dst_dir,  train_split=0.8):\n",
        "  class_names = os.listdir(source_dir)\n",
        "  for class_name in class_names:\n",
        "    filenames = os.listdir(source_dir+'/'+class_name)\n",
        "    np.random.shuffle(filenames)\n",
        "    train_set_number = np.ceil(len(os.listdir(source_dir+'/'+class_name))*train_split)\n",
        "    for i, filename in enumerate(filenames):\n",
        "      if i<train_set_number:\n",
        "        shutil.move(source_dir+'/'+class_name+'/'+filename, dst_dir+'/train/'+class_name+'/'+filename)\n",
        "      else:\n",
        "        shutil.move(source_dir+'/'+class_name+'/'+filename, dst_dir+'/valid/'+class_name+'/'+filename)"
      ],
      "execution_count": null,
      "outputs": []
    },
    {
      "cell_type": "code",
      "metadata": {
        "id": "zQmbPqUU4AmL"
      },
      "source": [
        "for cname in class_names:\n",
        "  split_train_valid(main_dir, 'drive/MyDrive/local_leaves')"
      ],
      "execution_count": null,
      "outputs": []
    },
    {
      "cell_type": "code",
      "metadata": {
        "colab": {
          "base_uri": "https://localhost:8080/"
        },
        "id": "cXSCFWCq6orb",
        "outputId": "1c7260bc-40fa-4e4c-c802-0c3965245abe"
      },
      "source": [
        "len(os.listdir(train_dir+'/Lychee'))"
      ],
      "execution_count": null,
      "outputs": [
        {
          "output_type": "execute_result",
          "data": {
            "text/plain": [
              "88"
            ]
          },
          "metadata": {
            "tags": []
          },
          "execution_count": 9
        }
      ]
    },
    {
      "cell_type": "code",
      "metadata": {
        "id": "6WkfsBJv64He"
      },
      "source": [
        "import tensorflow as tf\n",
        "from tensorflow import keras\n",
        "from keras.preprocessing.image import ImageDataGenerator"
      ],
      "execution_count": null,
      "outputs": []
    },
    {
      "cell_type": "code",
      "metadata": {
        "id": "ld0ELBRv34M5"
      },
      "source": [
        "train_datagen = ImageDataGenerator(rescale=1.0/255.0, rotation_range=40,\n",
        "                                   height_shift_range=0.2, width_shift_range=0.2,\n",
        "                                   shear_range=0.2, fill_mode='nearest')"
      ],
      "execution_count": null,
      "outputs": []
    },
    {
      "cell_type": "code",
      "metadata": {
        "id": "0JX7Ccmd7sIs"
      },
      "source": [
        "valid_datagen = ImageDataGenerator(rescale=1.0/255.)"
      ],
      "execution_count": null,
      "outputs": []
    },
    {
      "cell_type": "code",
      "metadata": {
        "colab": {
          "base_uri": "https://localhost:8080/"
        },
        "id": "eEaRvKUu7wh0",
        "outputId": "430b1677-5fc7-4b67-9f1b-03f5e548a01e"
      },
      "source": [
        "train_generator = train_datagen.flow_from_directory(train_dir, target_size=(224,224),\n",
        "                                                    class_mode='categorical', batch_size=32)\n",
        "valid_generator = valid_datagen.flow_from_directory(valid_dir, target_size=(224,224),\n",
        "                                                    class_mode='categorical', batch_size=32)"
      ],
      "execution_count": null,
      "outputs": [
        {
          "output_type": "stream",
          "text": [
            "Found 528 images belonging to 6 classes.\n",
            "Found 132 images belonging to 6 classes.\n"
          ],
          "name": "stdout"
        }
      ]
    },
    {
      "cell_type": "code",
      "metadata": {
        "id": "W_1jAZRO-qCh",
        "colab": {
          "base_uri": "https://localhost:8080/"
        },
        "outputId": "98cbe1fa-e0fb-42c2-8594-622438772666"
      },
      "source": [
        "indices = train_generator.class_indices\n",
        "indices ={values : keys for keys,values in indices.items()}\n",
        "indices"
      ],
      "execution_count": null,
      "outputs": [
        {
          "output_type": "execute_result",
          "data": {
            "text/plain": [
              "{0: 'Alien', 1: 'Guava', 2: 'Jackfruit', 3: 'Lychee', 4: 'Potato', 5: 'Rose'}"
            ]
          },
          "metadata": {
            "tags": []
          },
          "execution_count": 31
        }
      ]
    },
    {
      "cell_type": "code",
      "metadata": {
        "id": "8ffLK-GLvgsE"
      },
      "source": [
        "from keras.optimizers import Adam"
      ],
      "execution_count": null,
      "outputs": []
    },
    {
      "cell_type": "code",
      "metadata": {
        "id": "hCqhTT0NJcRN"
      },
      "source": [
        "from keras.applications.mobilenet_v2 import MobileNetV2"
      ],
      "execution_count": null,
      "outputs": []
    },
    {
      "cell_type": "code",
      "metadata": {
        "id": "_QcJkcGvYyLy",
        "colab": {
          "base_uri": "https://localhost:8080/"
        },
        "outputId": "c7cc457e-08af-41a9-927f-39efa5461152"
      },
      "source": [
        "mobile = tf.keras.applications.mobilenet.MobileNet()"
      ],
      "execution_count": null,
      "outputs": [
        {
          "output_type": "stream",
          "text": [
            "Downloading data from https://storage.googleapis.com/tensorflow/keras-applications/mobilenet/mobilenet_1_0_224_tf.h5\n",
            "17227776/17225924 [==============================] - 0s 0us/step\n"
          ],
          "name": "stdout"
        }
      ]
    },
    {
      "cell_type": "code",
      "metadata": {
        "colab": {
          "base_uri": "https://localhost:8080/"
        },
        "id": "2q2Poz94fh1M",
        "outputId": "91d5c7a7-ebb8-4f9f-9266-907cc965537e"
      },
      "source": [
        "mobile.summary()"
      ],
      "execution_count": null,
      "outputs": [
        {
          "output_type": "stream",
          "text": [
            "Model: \"mobilenet_1.00_224\"\n",
            "_________________________________________________________________\n",
            "Layer (type)                 Output Shape              Param #   \n",
            "=================================================================\n",
            "input_1 (InputLayer)         [(None, 224, 224, 3)]     0         \n",
            "_________________________________________________________________\n",
            "conv1 (Conv2D)               (None, 112, 112, 32)      864       \n",
            "_________________________________________________________________\n",
            "conv1_bn (BatchNormalization (None, 112, 112, 32)      128       \n",
            "_________________________________________________________________\n",
            "conv1_relu (ReLU)            (None, 112, 112, 32)      0         \n",
            "_________________________________________________________________\n",
            "conv_dw_1 (DepthwiseConv2D)  (None, 112, 112, 32)      288       \n",
            "_________________________________________________________________\n",
            "conv_dw_1_bn (BatchNormaliza (None, 112, 112, 32)      128       \n",
            "_________________________________________________________________\n",
            "conv_dw_1_relu (ReLU)        (None, 112, 112, 32)      0         \n",
            "_________________________________________________________________\n",
            "conv_pw_1 (Conv2D)           (None, 112, 112, 64)      2048      \n",
            "_________________________________________________________________\n",
            "conv_pw_1_bn (BatchNormaliza (None, 112, 112, 64)      256       \n",
            "_________________________________________________________________\n",
            "conv_pw_1_relu (ReLU)        (None, 112, 112, 64)      0         \n",
            "_________________________________________________________________\n",
            "conv_pad_2 (ZeroPadding2D)   (None, 113, 113, 64)      0         \n",
            "_________________________________________________________________\n",
            "conv_dw_2 (DepthwiseConv2D)  (None, 56, 56, 64)        576       \n",
            "_________________________________________________________________\n",
            "conv_dw_2_bn (BatchNormaliza (None, 56, 56, 64)        256       \n",
            "_________________________________________________________________\n",
            "conv_dw_2_relu (ReLU)        (None, 56, 56, 64)        0         \n",
            "_________________________________________________________________\n",
            "conv_pw_2 (Conv2D)           (None, 56, 56, 128)       8192      \n",
            "_________________________________________________________________\n",
            "conv_pw_2_bn (BatchNormaliza (None, 56, 56, 128)       512       \n",
            "_________________________________________________________________\n",
            "conv_pw_2_relu (ReLU)        (None, 56, 56, 128)       0         \n",
            "_________________________________________________________________\n",
            "conv_dw_3 (DepthwiseConv2D)  (None, 56, 56, 128)       1152      \n",
            "_________________________________________________________________\n",
            "conv_dw_3_bn (BatchNormaliza (None, 56, 56, 128)       512       \n",
            "_________________________________________________________________\n",
            "conv_dw_3_relu (ReLU)        (None, 56, 56, 128)       0         \n",
            "_________________________________________________________________\n",
            "conv_pw_3 (Conv2D)           (None, 56, 56, 128)       16384     \n",
            "_________________________________________________________________\n",
            "conv_pw_3_bn (BatchNormaliza (None, 56, 56, 128)       512       \n",
            "_________________________________________________________________\n",
            "conv_pw_3_relu (ReLU)        (None, 56, 56, 128)       0         \n",
            "_________________________________________________________________\n",
            "conv_pad_4 (ZeroPadding2D)   (None, 57, 57, 128)       0         \n",
            "_________________________________________________________________\n",
            "conv_dw_4 (DepthwiseConv2D)  (None, 28, 28, 128)       1152      \n",
            "_________________________________________________________________\n",
            "conv_dw_4_bn (BatchNormaliza (None, 28, 28, 128)       512       \n",
            "_________________________________________________________________\n",
            "conv_dw_4_relu (ReLU)        (None, 28, 28, 128)       0         \n",
            "_________________________________________________________________\n",
            "conv_pw_4 (Conv2D)           (None, 28, 28, 256)       32768     \n",
            "_________________________________________________________________\n",
            "conv_pw_4_bn (BatchNormaliza (None, 28, 28, 256)       1024      \n",
            "_________________________________________________________________\n",
            "conv_pw_4_relu (ReLU)        (None, 28, 28, 256)       0         \n",
            "_________________________________________________________________\n",
            "conv_dw_5 (DepthwiseConv2D)  (None, 28, 28, 256)       2304      \n",
            "_________________________________________________________________\n",
            "conv_dw_5_bn (BatchNormaliza (None, 28, 28, 256)       1024      \n",
            "_________________________________________________________________\n",
            "conv_dw_5_relu (ReLU)        (None, 28, 28, 256)       0         \n",
            "_________________________________________________________________\n",
            "conv_pw_5 (Conv2D)           (None, 28, 28, 256)       65536     \n",
            "_________________________________________________________________\n",
            "conv_pw_5_bn (BatchNormaliza (None, 28, 28, 256)       1024      \n",
            "_________________________________________________________________\n",
            "conv_pw_5_relu (ReLU)        (None, 28, 28, 256)       0         \n",
            "_________________________________________________________________\n",
            "conv_pad_6 (ZeroPadding2D)   (None, 29, 29, 256)       0         \n",
            "_________________________________________________________________\n",
            "conv_dw_6 (DepthwiseConv2D)  (None, 14, 14, 256)       2304      \n",
            "_________________________________________________________________\n",
            "conv_dw_6_bn (BatchNormaliza (None, 14, 14, 256)       1024      \n",
            "_________________________________________________________________\n",
            "conv_dw_6_relu (ReLU)        (None, 14, 14, 256)       0         \n",
            "_________________________________________________________________\n",
            "conv_pw_6 (Conv2D)           (None, 14, 14, 512)       131072    \n",
            "_________________________________________________________________\n",
            "conv_pw_6_bn (BatchNormaliza (None, 14, 14, 512)       2048      \n",
            "_________________________________________________________________\n",
            "conv_pw_6_relu (ReLU)        (None, 14, 14, 512)       0         \n",
            "_________________________________________________________________\n",
            "conv_dw_7 (DepthwiseConv2D)  (None, 14, 14, 512)       4608      \n",
            "_________________________________________________________________\n",
            "conv_dw_7_bn (BatchNormaliza (None, 14, 14, 512)       2048      \n",
            "_________________________________________________________________\n",
            "conv_dw_7_relu (ReLU)        (None, 14, 14, 512)       0         \n",
            "_________________________________________________________________\n",
            "conv_pw_7 (Conv2D)           (None, 14, 14, 512)       262144    \n",
            "_________________________________________________________________\n",
            "conv_pw_7_bn (BatchNormaliza (None, 14, 14, 512)       2048      \n",
            "_________________________________________________________________\n",
            "conv_pw_7_relu (ReLU)        (None, 14, 14, 512)       0         \n",
            "_________________________________________________________________\n",
            "conv_dw_8 (DepthwiseConv2D)  (None, 14, 14, 512)       4608      \n",
            "_________________________________________________________________\n",
            "conv_dw_8_bn (BatchNormaliza (None, 14, 14, 512)       2048      \n",
            "_________________________________________________________________\n",
            "conv_dw_8_relu (ReLU)        (None, 14, 14, 512)       0         \n",
            "_________________________________________________________________\n",
            "conv_pw_8 (Conv2D)           (None, 14, 14, 512)       262144    \n",
            "_________________________________________________________________\n",
            "conv_pw_8_bn (BatchNormaliza (None, 14, 14, 512)       2048      \n",
            "_________________________________________________________________\n",
            "conv_pw_8_relu (ReLU)        (None, 14, 14, 512)       0         \n",
            "_________________________________________________________________\n",
            "conv_dw_9 (DepthwiseConv2D)  (None, 14, 14, 512)       4608      \n",
            "_________________________________________________________________\n",
            "conv_dw_9_bn (BatchNormaliza (None, 14, 14, 512)       2048      \n",
            "_________________________________________________________________\n",
            "conv_dw_9_relu (ReLU)        (None, 14, 14, 512)       0         \n",
            "_________________________________________________________________\n",
            "conv_pw_9 (Conv2D)           (None, 14, 14, 512)       262144    \n",
            "_________________________________________________________________\n",
            "conv_pw_9_bn (BatchNormaliza (None, 14, 14, 512)       2048      \n",
            "_________________________________________________________________\n",
            "conv_pw_9_relu (ReLU)        (None, 14, 14, 512)       0         \n",
            "_________________________________________________________________\n",
            "conv_dw_10 (DepthwiseConv2D) (None, 14, 14, 512)       4608      \n",
            "_________________________________________________________________\n",
            "conv_dw_10_bn (BatchNormaliz (None, 14, 14, 512)       2048      \n",
            "_________________________________________________________________\n",
            "conv_dw_10_relu (ReLU)       (None, 14, 14, 512)       0         \n",
            "_________________________________________________________________\n",
            "conv_pw_10 (Conv2D)          (None, 14, 14, 512)       262144    \n",
            "_________________________________________________________________\n",
            "conv_pw_10_bn (BatchNormaliz (None, 14, 14, 512)       2048      \n",
            "_________________________________________________________________\n",
            "conv_pw_10_relu (ReLU)       (None, 14, 14, 512)       0         \n",
            "_________________________________________________________________\n",
            "conv_dw_11 (DepthwiseConv2D) (None, 14, 14, 512)       4608      \n",
            "_________________________________________________________________\n",
            "conv_dw_11_bn (BatchNormaliz (None, 14, 14, 512)       2048      \n",
            "_________________________________________________________________\n",
            "conv_dw_11_relu (ReLU)       (None, 14, 14, 512)       0         \n",
            "_________________________________________________________________\n",
            "conv_pw_11 (Conv2D)          (None, 14, 14, 512)       262144    \n",
            "_________________________________________________________________\n",
            "conv_pw_11_bn (BatchNormaliz (None, 14, 14, 512)       2048      \n",
            "_________________________________________________________________\n",
            "conv_pw_11_relu (ReLU)       (None, 14, 14, 512)       0         \n",
            "_________________________________________________________________\n",
            "conv_pad_12 (ZeroPadding2D)  (None, 15, 15, 512)       0         \n",
            "_________________________________________________________________\n",
            "conv_dw_12 (DepthwiseConv2D) (None, 7, 7, 512)         4608      \n",
            "_________________________________________________________________\n",
            "conv_dw_12_bn (BatchNormaliz (None, 7, 7, 512)         2048      \n",
            "_________________________________________________________________\n",
            "conv_dw_12_relu (ReLU)       (None, 7, 7, 512)         0         \n",
            "_________________________________________________________________\n",
            "conv_pw_12 (Conv2D)          (None, 7, 7, 1024)        524288    \n",
            "_________________________________________________________________\n",
            "conv_pw_12_bn (BatchNormaliz (None, 7, 7, 1024)        4096      \n",
            "_________________________________________________________________\n",
            "conv_pw_12_relu (ReLU)       (None, 7, 7, 1024)        0         \n",
            "_________________________________________________________________\n",
            "conv_dw_13 (DepthwiseConv2D) (None, 7, 7, 1024)        9216      \n",
            "_________________________________________________________________\n",
            "conv_dw_13_bn (BatchNormaliz (None, 7, 7, 1024)        4096      \n",
            "_________________________________________________________________\n",
            "conv_dw_13_relu (ReLU)       (None, 7, 7, 1024)        0         \n",
            "_________________________________________________________________\n",
            "conv_pw_13 (Conv2D)          (None, 7, 7, 1024)        1048576   \n",
            "_________________________________________________________________\n",
            "conv_pw_13_bn (BatchNormaliz (None, 7, 7, 1024)        4096      \n",
            "_________________________________________________________________\n",
            "conv_pw_13_relu (ReLU)       (None, 7, 7, 1024)        0         \n",
            "_________________________________________________________________\n",
            "global_average_pooling2d (Gl (None, 1024)              0         \n",
            "_________________________________________________________________\n",
            "reshape_1 (Reshape)          (None, 1, 1, 1024)        0         \n",
            "_________________________________________________________________\n",
            "dropout (Dropout)            (None, 1, 1, 1024)        0         \n",
            "_________________________________________________________________\n",
            "conv_preds (Conv2D)          (None, 1, 1, 1000)        1025000   \n",
            "_________________________________________________________________\n",
            "reshape_2 (Reshape)          (None, 1000)              0         \n",
            "_________________________________________________________________\n",
            "predictions (Activation)     (None, 1000)              0         \n",
            "=================================================================\n",
            "Total params: 4,253,864\n",
            "Trainable params: 4,231,976\n",
            "Non-trainable params: 21,888\n",
            "_________________________________________________________________\n"
          ],
          "name": "stdout"
        }
      ]
    },
    {
      "cell_type": "code",
      "metadata": {
        "id": "krHToslIgvyy"
      },
      "source": [
        "x = mobile.layers[-6].output"
      ],
      "execution_count": null,
      "outputs": []
    },
    {
      "cell_type": "code",
      "metadata": {
        "id": "0P65yS04g0Pw"
      },
      "source": [
        "output = keras.layers.Dense(units=6, activation='softmax')(x)"
      ],
      "execution_count": null,
      "outputs": []
    },
    {
      "cell_type": "code",
      "metadata": {
        "id": "1MU97xc5g21J"
      },
      "source": [
        "mobile_model = keras.Model(inputs=mobile.input, outputs=output)"
      ],
      "execution_count": null,
      "outputs": []
    },
    {
      "cell_type": "code",
      "metadata": {
        "id": "u5mTkJzlhJ-H"
      },
      "source": [
        "for layer in mobile_model.layers[:-23]:\n",
        "    layer.trainable = False"
      ],
      "execution_count": null,
      "outputs": []
    },
    {
      "cell_type": "code",
      "metadata": {
        "id": "2dB5lbklhK4T"
      },
      "source": [
        "mobile_model.compile(optimizer=Adam(learning_rate=0.0001), loss='categorical_crossentropy', metrics=['accuracy'])"
      ],
      "execution_count": null,
      "outputs": []
    },
    {
      "cell_type": "code",
      "metadata": {
        "colab": {
          "base_uri": "https://localhost:8080/"
        },
        "id": "c_NabhfUhdte",
        "outputId": "8ed1f149-720a-42a5-8603-abba8463ece0"
      },
      "source": [
        "mobile_history = mobile_model.fit_generator(train_generator, steps_per_epoch=17, epochs=20, verbose=2, validation_data=valid_generator,\n",
        "                              validation_steps=5)"
      ],
      "execution_count": null,
      "outputs": [
        {
          "output_type": "stream",
          "text": [
            "/usr/local/lib/python3.6/dist-packages/tensorflow/python/keras/engine/training.py:1844: UserWarning: `Model.fit_generator` is deprecated and will be removed in a future version. Please use `Model.fit`, which supports generators.\n",
            "  warnings.warn('`Model.fit_generator` is deprecated and '\n"
          ],
          "name": "stderr"
        },
        {
          "output_type": "stream",
          "text": [
            "Epoch 1/20\n",
            "17/17 - 458s - loss: 0.8321 - accuracy: 0.7197 - val_loss: 1.8061 - val_accuracy: 0.4924\n",
            "Epoch 2/20\n",
            "17/17 - 26s - loss: 0.0545 - accuracy: 0.9943 - val_loss: 1.9643 - val_accuracy: 0.5303\n",
            "Epoch 3/20\n",
            "17/17 - 26s - loss: 0.0307 - accuracy: 0.9962 - val_loss: 1.3006 - val_accuracy: 0.6288\n",
            "Epoch 4/20\n",
            "17/17 - 26s - loss: 0.0154 - accuracy: 1.0000 - val_loss: 0.7555 - val_accuracy: 0.7348\n",
            "Epoch 5/20\n",
            "17/17 - 26s - loss: 0.0119 - accuracy: 1.0000 - val_loss: 0.4122 - val_accuracy: 0.8182\n",
            "Epoch 6/20\n",
            "17/17 - 26s - loss: 0.0109 - accuracy: 1.0000 - val_loss: 0.2341 - val_accuracy: 0.9167\n",
            "Epoch 7/20\n",
            "17/17 - 26s - loss: 0.0089 - accuracy: 1.0000 - val_loss: 0.1367 - val_accuracy: 0.9394\n",
            "Epoch 8/20\n",
            "17/17 - 26s - loss: 0.0096 - accuracy: 1.0000 - val_loss: 0.0817 - val_accuracy: 0.9621\n",
            "Epoch 9/20\n",
            "17/17 - 26s - loss: 0.0106 - accuracy: 0.9981 - val_loss: 0.0503 - val_accuracy: 0.9848\n",
            "Epoch 10/20\n",
            "17/17 - 26s - loss: 0.0059 - accuracy: 1.0000 - val_loss: 0.0306 - val_accuracy: 0.9924\n",
            "Epoch 11/20\n",
            "17/17 - 26s - loss: 0.0074 - accuracy: 1.0000 - val_loss: 0.0226 - val_accuracy: 0.9924\n",
            "Epoch 12/20\n",
            "17/17 - 26s - loss: 0.0045 - accuracy: 1.0000 - val_loss: 0.0169 - val_accuracy: 0.9924\n",
            "Epoch 13/20\n",
            "17/17 - 26s - loss: 0.0047 - accuracy: 1.0000 - val_loss: 0.0142 - val_accuracy: 0.9924\n",
            "Epoch 14/20\n",
            "17/17 - 26s - loss: 0.0032 - accuracy: 1.0000 - val_loss: 0.0137 - val_accuracy: 0.9924\n",
            "Epoch 15/20\n",
            "17/17 - 26s - loss: 0.0042 - accuracy: 1.0000 - val_loss: 0.0144 - val_accuracy: 0.9924\n",
            "Epoch 16/20\n",
            "17/17 - 26s - loss: 0.0021 - accuracy: 1.0000 - val_loss: 0.0131 - val_accuracy: 0.9924\n",
            "Epoch 17/20\n",
            "17/17 - 26s - loss: 0.0024 - accuracy: 1.0000 - val_loss: 0.0117 - val_accuracy: 0.9924\n",
            "Epoch 18/20\n",
            "17/17 - 26s - loss: 0.0026 - accuracy: 1.0000 - val_loss: 0.0092 - val_accuracy: 0.9924\n",
            "Epoch 19/20\n",
            "17/17 - 26s - loss: 0.0033 - accuracy: 1.0000 - val_loss: 0.0078 - val_accuracy: 1.0000\n",
            "Epoch 20/20\n",
            "17/17 - 26s - loss: 0.0017 - accuracy: 1.0000 - val_loss: 0.0070 - val_accuracy: 1.0000\n"
          ],
          "name": "stdout"
        }
      ]
    },
    {
      "cell_type": "code",
      "metadata": {
        "id": "COJ4pImxxl4J"
      },
      "source": [
        "mobile_model.save('drive/MyDrive/local_leaves/models/mobilenet_model_6_classes.h5')"
      ],
      "execution_count": null,
      "outputs": []
    },
    {
      "cell_type": "code",
      "metadata": {
        "colab": {
          "base_uri": "https://localhost:8080/",
          "height": 404
        },
        "id": "CPIG-Hr4ya7X",
        "outputId": "713b4e81-a744-4b44-d9e7-921b5748e27d"
      },
      "source": [
        "fig, ax = plt.subplots(figsize=(8,6))\n",
        "ax.plot(mobile_history.history['accuracy'], label='Training Accuracy')\n",
        "ax.plot(mobile_history.history['val_accuracy'], label='Validation Accuracy')\n",
        "ax.set(xlabel='Epochs', ylabel='Accuracy', title='Accuracy of Mobilenet Model')\n",
        "ax.legend();"
      ],
      "execution_count": null,
      "outputs": [
        {
          "output_type": "display_data",
          "data": {
            "image/png": "[encoded data removed]",
            "text/plain": [
              "<Figure size 576x432 with 1 Axes>"
            ]
          },
          "metadata": {
            "tags": [],
            "needs_background": "light"
          }
        }
      ]
    },
    {
      "cell_type": "code",
      "metadata": {
        "colab": {
          "base_uri": "https://localhost:8080/",
          "height": 404
        },
        "id": "SjFk4-jzyaX9",
        "outputId": "dd842314-3276-4080-d267-ddd3ed902b95"
      },
      "source": [
        "fig, ax = plt.subplots(figsize=(8,6))\n",
        "ax.plot(mobile_history.history['loss'], label='Training Loss')\n",
        "ax.plot(mobile_history.history['val_loss'], label='Validation Loss')\n",
        "ax.set(xlabel='Loss', ylabel='Epochs', title='Loss of Mobilenet Model')\n",
        "ax.legend();"
      ],
      "execution_count": null,
      "outputs": [
        {
          "output_type": "display_data",
          "data": {
            "image/png": "[encoded data removed]",
            "text/plain": [
              "<Figure size 576x432 with 1 Axes>"
            ]
          },
          "metadata": {
            "tags": [],
            "needs_background": "light"
          }
        }
      ]
    }
  ]
}