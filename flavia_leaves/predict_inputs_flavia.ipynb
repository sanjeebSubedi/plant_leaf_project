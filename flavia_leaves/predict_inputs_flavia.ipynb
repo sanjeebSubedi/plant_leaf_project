{
  "nbformat": 4,
  "nbformat_minor": 0,
  "metadata": {
    "colab": {
      "name": "predict_inputs.ipynb",
      "provenance": []
    },
    "kernelspec": {
      "name": "python3",
      "display_name": "Python 3"
    }
  },
  "cells": [
    {
      "cell_type": "code",
      "metadata": {
        "id": "uRdFkHKad5YF"
      },
      "source": [
        "from tensorflow import keras\n",
        "import cv2\n",
        "import numpy as np"
      ],
      "execution_count": 9,
      "outputs": []
    },
    {
      "cell_type": "code",
      "metadata": {
        "id": "wrK31ysYe0st"
      },
      "source": [
        "indices = {0: 'Anhui_Barberry',1: \"Beale's_barberry\",2: 'Big-fruited_Holly',3: 'Canadian_poplar',4: 'Chinese_Toon',5: 'Chinese_cinnamon',6: 'Chinese_horse_chestnut',7: 'Chinese_redbud',8: 'Chinese_tulip_tree',9: 'Crape_myrtle_Crepe_myrtle',10: 'Ford_Woodlotus',\n",
        "             11: 'Glossy_Privet',12: 'Japan_Arrowwood',13: 'Japanese_Flowering_Cherry',14: 'Japanese_cheesewood',15: 'Japanese_maple',16: 'Nanmu',17: 'camphortree',18: 'castor_aralia',19: 'deodar',20: 'ginkgo_maidenhair_tree',21: 'goldenrain_tree',22: 'oleander',\n",
        "             23: 'peach',24: 'pubescent_bamboo',25: 'southern_magnolia',26: 'sweet_osmanthus',27: 'tangerine',28: 'trident_maple',29: 'true_indigo',30: 'wintersweet',31: 'yew_plum_pine'}"
      ],
      "execution_count": 13,
      "outputs": []
    },
    {
      "cell_type": "code",
      "metadata": {
        "id": "V7tofQY_dTAH"
      },
      "source": [
        "def preprocess_custom(image):\n",
        "  # image = remove_background(image)\n",
        "  image = cv2.imread(image)\n",
        "  img_normalized = image/255\n",
        "  img_resized = cv2.resize(img_normalized, (224,224))\n",
        "  img_reshaped = np.expand_dims(img_resized, axis=0)\n",
        "  return img_reshaped"
      ],
      "execution_count": 2,
      "outputs": []
    },
    {
      "cell_type": "code",
      "metadata": {
        "id": "WG43dwHzdUcw"
      },
      "source": [
        "def predict_custom(model, custom_image):\n",
        "  processed_img = preprocess_custom(custom_image)\n",
        "  prediction = model.predict(processed_img)\n",
        "  global indices\n",
        "  indices = {0: 'Anhui_Barberry',1: \"Beale's_barberry\",2: 'Big-fruited_Holly',3: 'Canadian_poplar',4: 'Chinese_Toon',5: 'Chinese_cinnamon',6: 'Chinese_horse_chestnut',7: 'Chinese_redbud',8: 'Chinese_tulip_tree',9: 'Crape_myrtle_Crepe_myrtle',10: 'Ford_Woodlotus',\n",
        "             11: 'Glossy_Privet',12: 'Japan_Arrowwood',13: 'Japanese_Flowering_Cherry',14: 'Japanese_cheesewood',15: 'Japanese_maple',16: 'Nanmu',17: 'camphortree',18: 'castor_aralia',19: 'deodar',20: 'ginkgo_maidenhair_tree',21: 'goldenrain_tree',22: 'oleander',\n",
        "             23: 'peach',24: 'pubescent_bamboo',25: 'southern_magnolia',26: 'sweet_osmanthus',27: 'tangerine',28: 'trident_maple',29: 'true_indigo',30: 'wintersweet',31: 'yew_plum_pine'}\n",
        "  answer = indices.get(np.argmax(prediction))\n",
        "  return answer"
      ],
      "execution_count": 11,
      "outputs": []
    },
    {
      "cell_type": "code",
      "metadata": {
        "id": "sxvUrUbEdb5Z"
      },
      "source": [
        "def get_top_3(probability_array, indices):\n",
        "  top3 = list(probability_array.flatten().argsort()[-3:][::-1])\n",
        "  top_probs = {}\n",
        "  for item in top3:\n",
        "    label = indices.get(item)\n",
        "    label=label.replace('_', ' ').capitalize()\n",
        "    probab = probability_array.flatten()[item]\n",
        "    top_probs[label] = round((probab*100),2)\n",
        "  return top_probs"
      ],
      "execution_count": 5,
      "outputs": []
    },
    {
      "cell_type": "code",
      "metadata": {
        "id": "cB2HSa8HdO8d"
      },
      "source": [
        "def load_model(model_path):\n",
        "  model = keras.models.load_model(model_path)\n",
        "  return model"
      ],
      "execution_count": 7,
      "outputs": []
    },
    {
      "cell_type": "code",
      "metadata": {
        "colab": {
          "base_uri": "https://localhost:8080/"
        },
        "id": "s03eZ3xYdbs7",
        "outputId": "f7452ecc-5015-4ed1-8f7a-3f0518706cdd"
      },
      "source": [
        "loaded_model = load_model('drive/MyDrive/flavia_leaves/models/mobilenet_model.h5')\n",
        "image = preprocess_custom('/content/drive/MyDrive/flavia_leaves/dataset/valid/trident_maple/3282.jpg')\n",
        "answer = predict_custom(loaded_model, '/content/drive/MyDrive/flavia_leaves/dataset/valid/trident_maple/3282.jpg')\n",
        "print(answer)\n",
        "predicted_array = loaded_model.predict(image)\n",
        "get_top_3(predicted_array, indices)"
      ],
      "execution_count": 20,
      "outputs": [
        {
          "output_type": "stream",
          "text": [
            "WARNING:tensorflow:6 out of the last 9 calls to <function Model.make_predict_function.<locals>.predict_function at 0x7fc84d42a6a8> triggered tf.function retracing. Tracing is expensive and the excessive number of tracings could be due to (1) creating @tf.function repeatedly in a loop, (2) passing tensors with different shapes, (3) passing Python objects instead of tensors. For (1), please define your @tf.function outside of the loop. For (2), @tf.function has experimental_relax_shapes=True option that relaxes argument shapes that can avoid unnecessary retracing. For (3), please refer to https://www.tensorflow.org/guide/function#controlling_retracing and https://www.tensorflow.org/api_docs/python/tf/function for  more details.\n",
            "trident_maple\n"
          ],
          "name": "stdout"
        },
        {
          "output_type": "execute_result",
          "data": {
            "text/plain": [
              "{'Canadian poplar': 0.0, 'Chinese tulip tree': 0.01, 'Trident maple': 99.99}"
            ]
          },
          "metadata": {
            "tags": []
          },
          "execution_count": 20
        }
      ]
    },
    {
      "cell_type": "code",
      "metadata": {
        "id": "LbIjRhr3efUt"
      },
      "source": [
        ""
      ],
      "execution_count": null,
      "outputs": []
    }
  ]
}