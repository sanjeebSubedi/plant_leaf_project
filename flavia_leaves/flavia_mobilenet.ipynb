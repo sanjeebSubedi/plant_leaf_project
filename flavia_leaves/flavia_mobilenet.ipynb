{
  "nbformat": 4,
  "nbformat_minor": 0,
  "metadata": {
    "colab": {
      "name": "flavia_mobilenet.ipynb",
      "provenance": [],
      "collapsed_sections": []
    },
    "kernelspec": {
      "name": "python3",
      "display_name": "Python 3"
    }
  },
  "cells": [
    {
      "cell_type": "code",
      "metadata": {
        "id": "7kOg6uADp3X8",
        "colab": {
          "base_uri": "https://localhost:8080/"
        },
        "outputId": "88fd88d6-2428-464b-eb97-5a98b135a9e5"
      },
      "source": [
        "from google.colab import drive\n",
        "drive.mount('/content/drive')"
      ],
      "execution_count": 1,
      "outputs": [
        {
          "output_type": "stream",
          "text": [
            "Mounted at /content/drive\n"
          ],
          "name": "stdout"
        }
      ]
    },
    {
      "cell_type": "code",
      "metadata": {
        "colab": {
          "base_uri": "https://localhost:8080/"
        },
        "id": "hqcFyzhKub_4",
        "outputId": "fbad3a6d-335f-4666-82ca-91b329286fcf"
      },
      "source": [
        "!wget --no-check-certificate https://sourceforge.net/projects/flavia/files/Leaf%20Image%20Dataset/1.0/Leaves.tar.bz2 -O /content/drive/MyDrive/flavia_leaves/dataset/Leaves.tar.bz2"
      ],
      "execution_count": null,
      "outputs": [
        {
          "output_type": "stream",
          "text": [
            "--2021-01-25 09:42:38--  https://sourceforge.net/projects/flavia/files/Leaf%20Image%20Dataset/1.0/Leaves.tar.bz2\n",
            "Resolving sourceforge.net (sourceforge.net)... 216.105.38.13\n",
            "Connecting to sourceforge.net (sourceforge.net)|216.105.38.13|:443... connected.\n",
            "HTTP request sent, awaiting response... 301 Moved Permanently\n",
            "Location: https://sourceforge.net/projects/flavia/files/Leaf%20Image%20Dataset/1.0/Leaves.tar.bz2/ [following]\n",
            "--2021-01-25 09:42:39--  https://sourceforge.net/projects/flavia/files/Leaf%20Image%20Dataset/1.0/Leaves.tar.bz2/\n",
            "Reusing existing connection to sourceforge.net:443.\n",
            "HTTP request sent, awaiting response... 302 Found\n",
            "Location: https://sourceforge.net/projects/flavia/files/Leaf%20Image%20Dataset/1.0/Leaves.tar.bz2/download [following]\n",
            "--2021-01-25 09:42:39--  https://sourceforge.net/projects/flavia/files/Leaf%20Image%20Dataset/1.0/Leaves.tar.bz2/download\n",
            "Reusing existing connection to sourceforge.net:443.\n",
            "HTTP request sent, awaiting response... 302 Found\n",
            "Location: https://downloads.sourceforge.net/project/flavia/Leaf%20Image%20Dataset/1.0/Leaves.tar.bz2?r=&ts=1611567759&use_mirror=jaist [following]\n",
            "--2021-01-25 09:42:39--  https://downloads.sourceforge.net/project/flavia/Leaf%20Image%20Dataset/1.0/Leaves.tar.bz2?r=&ts=1611567759&use_mirror=jaist\n",
            "Resolving downloads.sourceforge.net (downloads.sourceforge.net)... 216.105.38.13\n",
            "Connecting to downloads.sourceforge.net (downloads.sourceforge.net)|216.105.38.13|:443... connected.\n",
            "HTTP request sent, awaiting response... 302 Found\n",
            "Location: https://jaist.dl.sourceforge.net/project/flavia/Leaf%20Image%20Dataset/1.0/Leaves.tar.bz2 [following]\n",
            "--2021-01-25 09:42:40--  https://jaist.dl.sourceforge.net/project/flavia/Leaf%20Image%20Dataset/1.0/Leaves.tar.bz2\n",
            "Resolving jaist.dl.sourceforge.net (jaist.dl.sourceforge.net)... 150.65.7.130, 2001:df0:2ed:feed::feed\n",
            "Connecting to jaist.dl.sourceforge.net (jaist.dl.sourceforge.net)|150.65.7.130|:443... connected.\n",
            "HTTP request sent, awaiting response... 200 OK\n",
            "Length: 965715159 (921M) [application/octet-stream]\n",
            "Saving to: ‘/content/drive/MyDrive/flavia_leaves/dataset/Leaves.tar.bz2’\n",
            "\n",
            "/content/drive/MyDr 100%[===================>] 920.98M  43.2MB/s    in 38s     \n",
            "\n",
            "2021-01-25 09:43:19 (24.0 MB/s) - ‘/content/drive/MyDrive/flavia_leaves/dataset/Leaves.tar.bz2’ saved [965715159/965715159]\n",
            "\n"
          ],
          "name": "stdout"
        }
      ]
    },
    {
      "cell_type": "code",
      "metadata": {
        "id": "H2bzYGey0OrU"
      },
      "source": [
        "import tarfile"
      ],
      "execution_count": null,
      "outputs": []
    },
    {
      "cell_type": "markdown",
      "metadata": {
        "id": "15DTnWah7tXz"
      },
      "source": [
        "Extract the downloaded archive."
      ]
    },
    {
      "cell_type": "code",
      "metadata": {
        "id": "R9Dmbp5T05sn"
      },
      "source": [
        "tar_file = tarfile.open('drive/MyDrive/flavia_leaves/dataset/Leaves.tar.bz2', 'r:bz2')\n",
        "tar_file.extractall('drive/MyDrive/flavia_leaves/dataset/')\n",
        "tar_file.close()"
      ],
      "execution_count": null,
      "outputs": []
    },
    {
      "cell_type": "code",
      "metadata": {
        "id": "mIDTJR5K1Y-w"
      },
      "source": [
        "import os"
      ],
      "execution_count": null,
      "outputs": []
    },
    {
      "cell_type": "markdown",
      "metadata": {
        "id": "L-J7R9Jf7xPg"
      },
      "source": [
        "Check the number of images in the dataset."
      ]
    },
    {
      "cell_type": "code",
      "metadata": {
        "colab": {
          "base_uri": "https://localhost:8080/"
        },
        "id": "f1hZ6i_X2hfn",
        "outputId": "aac2fb45-1241-4a49-ca44-57cba0163c4e"
      },
      "source": [
        "len(os.listdir('drive/MyDrive/flavia_leaves/dataset/Leaves'))"
      ],
      "execution_count": null,
      "outputs": [
        {
          "output_type": "execute_result",
          "data": {
            "text/plain": [
              "1907"
            ]
          },
          "metadata": {
            "tags": []
          },
          "execution_count": 6
        }
      ]
    },
    {
      "cell_type": "code",
      "metadata": {
        "id": "DKkGkLlhYVNR"
      },
      "source": [
        "import pandas as pd\n",
        "import numpy as np"
      ],
      "execution_count": null,
      "outputs": []
    },
    {
      "cell_type": "code",
      "metadata": {
        "id": "kHNniZs22tRa"
      },
      "source": [
        "from bs4 import BeautifulSoup\n",
        "import requests"
      ],
      "execution_count": null,
      "outputs": []
    },
    {
      "cell_type": "markdown",
      "metadata": {
        "id": "p36TneU2iByt"
      },
      "source": [
        "The flavia dataset contains all leaves in a single folder with names as numbers. We have to extract the labels from the website which specifies which file is of which class."
      ]
    },
    {
      "cell_type": "code",
      "metadata": {
        "id": "Kh5-9yueYH_d"
      },
      "source": [
        "result = requests.get('http://flavia.sourceforge.net/')\n",
        "soup = BeautifulSoup(result.content, 'lxml')"
      ],
      "execution_count": null,
      "outputs": []
    },
    {
      "cell_type": "markdown",
      "metadata": {
        "id": "Xb5FP96AifTO"
      },
      "source": [
        "The website has a table containing scientific names, common names, filenames. It would be helful if we can somehow replicate that table in a pandas dataframe of our own. "
      ]
    },
    {
      "cell_type": "code",
      "metadata": {
        "id": "cZNFLT2bYkM1"
      },
      "source": [
        "df = pd.DataFrame(columns=['label', 'scientific_name', 'common_name', 'filename', 'url'])\n",
        "entry=[]\n",
        "table = soup.find_all('td')\n",
        "for row in table:\n",
        "  entry.append(row.text)\n",
        "  if len(entry)==5:\n",
        "    df.loc[len(df.index)]=entry\n",
        "    entry.clear()"
      ],
      "execution_count": null,
      "outputs": []
    },
    {
      "cell_type": "code",
      "metadata": {
        "colab": {
          "base_uri": "https://localhost:8080/"
        },
        "id": "Q8ZSoe0ZZ9vX",
        "outputId": "e65fd354-eaa6-4258-ca78-a13f13f4a11e"
      },
      "source": [
        "df.shape"
      ],
      "execution_count": null,
      "outputs": [
        {
          "output_type": "execute_result",
          "data": {
            "text/plain": [
              "(32, 5)"
            ]
          },
          "metadata": {
            "tags": []
          },
          "execution_count": 58
        }
      ]
    },
    {
      "cell_type": "code",
      "metadata": {
        "colab": {
          "base_uri": "https://localhost:8080/",
          "height": 159
        },
        "id": "ahN9xtYAaAnn",
        "outputId": "c614ba46-88b8-49ff-c3b0-387922be5318"
      },
      "source": [
        "df.head(3)"
      ],
      "execution_count": null,
      "outputs": [
        {
          "output_type": "execute_result",
          "data": {
            "text/html": [
              "<div>\n",
              "<style scoped>\n",
              "    .dataframe tbody tr th:only-of-type {\n",
              "        vertical-align: middle;\n",
              "    }\n",
              "\n",
              "    .dataframe tbody tr th {\n",
              "        vertical-align: top;\n",
              "    }\n",
              "\n",
              "    .dataframe thead th {\n",
              "        text-align: right;\n",
              "    }\n",
              "</style>\n",
              "<table border=\"1\" class=\"dataframe\">\n",
              "  <thead>\n",
              "    <tr style=\"text-align: right;\">\n",
              "      <th></th>\n",
              "      <th>label</th>\n",
              "      <th>scientific_name</th>\n",
              "      <th>common_name</th>\n",
              "      <th>filename</th>\n",
              "      <th>url</th>\n",
              "    </tr>\n",
              "  </thead>\n",
              "  <tbody>\n",
              "    <tr>\n",
              "      <th>0</th>\n",
              "      <td>1</td>\n",
              "      <td>Phyllostachys edulis (Carr.) Houz.</td>\n",
              "      <td>pubescent bamboo</td>\n",
              "      <td>1001-1059</td>\n",
              "      <td>http://www.itis.gov/servlet/SingleRpt/SingleRp...</td>\n",
              "    </tr>\n",
              "    <tr>\n",
              "      <th>1</th>\n",
              "      <td>2</td>\n",
              "      <td>Aesculus chinensis</td>\n",
              "      <td>Chinese horse chestnut</td>\n",
              "      <td>1060-1122</td>\n",
              "      <td>http://www.ars-grin.gov/cgi-bin/npgs/html/taxo...</td>\n",
              "    </tr>\n",
              "    <tr>\n",
              "      <th>2</th>\n",
              "      <td>3</td>\n",
              "      <td>Berberis anhweiensis Ahrendt</td>\n",
              "      <td>Anhui Barberry</td>\n",
              "      <td>1552-1616</td>\n",
              "      <td>http://asaweb.huh.harvard.edu:8080/databases/s...</td>\n",
              "    </tr>\n",
              "  </tbody>\n",
              "</table>\n",
              "</div>"
            ],
            "text/plain": [
              "  label  ...                                                url\n",
              "0     1  ...  http://www.itis.gov/servlet/SingleRpt/SingleRp...\n",
              "1     2  ...  http://www.ars-grin.gov/cgi-bin/npgs/html/taxo...\n",
              "2     3  ...  http://asaweb.huh.harvard.edu:8080/databases/s...\n",
              "\n",
              "[3 rows x 5 columns]"
            ]
          },
          "metadata": {
            "tags": []
          },
          "execution_count": 59
        }
      ]
    },
    {
      "cell_type": "markdown",
      "metadata": {
        "id": "wLnsKa6fi6Na"
      },
      "source": [
        "It might come in handy later if we split the filename column to two columns which contain the start filename and end filename."
      ]
    },
    {
      "cell_type": "code",
      "metadata": {
        "colab": {
          "base_uri": "https://localhost:8080/"
        },
        "id": "F6awn-ZobtON",
        "outputId": "ea24b7e8-5ca4-4bad-f729-ad81dba3430a"
      },
      "source": [
        "start_filename=pd.Series()\n",
        "end_filename=pd.Series()\n",
        "for start, end in df.filename.str.split('-', 1):\n",
        "  start_filename.loc[len(start_filename.index)] = start\n",
        "  end_filename.loc[len(end_filename.index)] = end\n",
        "# b.append(df.filename.str.split('-'))"
      ],
      "execution_count": null,
      "outputs": [
        {
          "output_type": "stream",
          "text": [
            "/usr/local/lib/python3.6/dist-packages/ipykernel_launcher.py:1: DeprecationWarning: The default dtype for empty Series will be 'object' instead of 'float64' in a future version. Specify a dtype explicitly to silence this warning.\n",
            "  \"\"\"Entry point for launching an IPython kernel.\n",
            "/usr/local/lib/python3.6/dist-packages/ipykernel_launcher.py:2: DeprecationWarning: The default dtype for empty Series will be 'object' instead of 'float64' in a future version. Specify a dtype explicitly to silence this warning.\n",
            "  \n"
          ],
          "name": "stderr"
        }
      ]
    },
    {
      "cell_type": "code",
      "metadata": {
        "id": "C_8EtvWoecMA"
      },
      "source": [
        "df['start_filename'] = start_filename\n",
        "df['end_filename'] = end_filename"
      ],
      "execution_count": null,
      "outputs": []
    },
    {
      "cell_type": "code",
      "metadata": {
        "id": "jfbqbpuC8Wv4"
      },
      "source": [
        "df['start_filename'] = df['start_filename'].astype(int)\n",
        "df['end_filename'] = df['end_filename'].astype(int)"
      ],
      "execution_count": null,
      "outputs": []
    },
    {
      "cell_type": "code",
      "metadata": {
        "colab": {
          "base_uri": "https://localhost:8080/",
          "height": 230
        },
        "id": "J-Hc-vo1gZKf",
        "outputId": "75db179c-a817-4fcc-92ae-7794672ef1fa"
      },
      "source": [
        "df.drop('filename', axis=1, inplace=True)\n",
        "df.head(3)"
      ],
      "execution_count": null,
      "outputs": [
        {
          "output_type": "execute_result",
          "data": {
            "text/html": [
              "<div>\n",
              "<style scoped>\n",
              "    .dataframe tbody tr th:only-of-type {\n",
              "        vertical-align: middle;\n",
              "    }\n",
              "\n",
              "    .dataframe tbody tr th {\n",
              "        vertical-align: top;\n",
              "    }\n",
              "\n",
              "    .dataframe thead th {\n",
              "        text-align: right;\n",
              "    }\n",
              "</style>\n",
              "<table border=\"1\" class=\"dataframe\">\n",
              "  <thead>\n",
              "    <tr style=\"text-align: right;\">\n",
              "      <th></th>\n",
              "      <th>label</th>\n",
              "      <th>scientific_name</th>\n",
              "      <th>common_name</th>\n",
              "      <th>url</th>\n",
              "      <th>start_filename</th>\n",
              "      <th>end_filename</th>\n",
              "    </tr>\n",
              "  </thead>\n",
              "  <tbody>\n",
              "    <tr>\n",
              "      <th>0</th>\n",
              "      <td>1</td>\n",
              "      <td>Phyllostachys edulis (Carr.) Houz.</td>\n",
              "      <td>pubescent bamboo</td>\n",
              "      <td>http://www.itis.gov/servlet/SingleRpt/SingleRp...</td>\n",
              "      <td>1001</td>\n",
              "      <td>1059</td>\n",
              "    </tr>\n",
              "    <tr>\n",
              "      <th>1</th>\n",
              "      <td>2</td>\n",
              "      <td>Aesculus chinensis</td>\n",
              "      <td>Chinese horse chestnut</td>\n",
              "      <td>http://www.ars-grin.gov/cgi-bin/npgs/html/taxo...</td>\n",
              "      <td>1060</td>\n",
              "      <td>1122</td>\n",
              "    </tr>\n",
              "    <tr>\n",
              "      <th>2</th>\n",
              "      <td>3</td>\n",
              "      <td>Berberis anhweiensis Ahrendt</td>\n",
              "      <td>Anhui Barberry</td>\n",
              "      <td>http://asaweb.huh.harvard.edu:8080/databases/s...</td>\n",
              "      <td>1552</td>\n",
              "      <td>1616</td>\n",
              "    </tr>\n",
              "  </tbody>\n",
              "</table>\n",
              "</div>"
            ],
            "text/plain": [
              "  label                     scientific_name  ... start_filename end_filename\n",
              "0     1  Phyllostachys edulis (Carr.) Houz.  ...           1001         1059\n",
              "1     2                  Aesculus chinensis  ...           1060         1122\n",
              "2     3        Berberis anhweiensis Ahrendt  ...           1552         1616\n",
              "\n",
              "[3 rows x 6 columns]"
            ]
          },
          "metadata": {
            "tags": []
          },
          "execution_count": 63
        }
      ]
    },
    {
      "cell_type": "markdown",
      "metadata": {
        "id": "gcAGAeTLjQ8Y"
      },
      "source": [
        "We might use the common name column for different purposes so lets make sure it doesnot contain any spaces and commas."
      ]
    },
    {
      "cell_type": "code",
      "metadata": {
        "colab": {
          "base_uri": "https://localhost:8080/",
          "height": 213
        },
        "id": "AnAhVCPkggsb",
        "outputId": "d3e6730e-752c-4a87-8894-033472c7fecd"
      },
      "source": [
        "df['common_name'] = df.common_name.str.replace(' ', '_').str.replace(',', '')\n",
        "df.head(3)"
      ],
      "execution_count": null,
      "outputs": [
        {
          "output_type": "execute_result",
          "data": {
            "text/html": [
              "<div>\n",
              "<style scoped>\n",
              "    .dataframe tbody tr th:only-of-type {\n",
              "        vertical-align: middle;\n",
              "    }\n",
              "\n",
              "    .dataframe tbody tr th {\n",
              "        vertical-align: top;\n",
              "    }\n",
              "\n",
              "    .dataframe thead th {\n",
              "        text-align: right;\n",
              "    }\n",
              "</style>\n",
              "<table border=\"1\" class=\"dataframe\">\n",
              "  <thead>\n",
              "    <tr style=\"text-align: right;\">\n",
              "      <th></th>\n",
              "      <th>label</th>\n",
              "      <th>scientific_name</th>\n",
              "      <th>common_name</th>\n",
              "      <th>url</th>\n",
              "      <th>start_filename</th>\n",
              "      <th>end_filename</th>\n",
              "    </tr>\n",
              "  </thead>\n",
              "  <tbody>\n",
              "    <tr>\n",
              "      <th>0</th>\n",
              "      <td>1</td>\n",
              "      <td>Phyllostachys edulis (Carr.) Houz.</td>\n",
              "      <td>pubescent_bamboo</td>\n",
              "      <td>http://www.itis.gov/servlet/SingleRpt/SingleRp...</td>\n",
              "      <td>1001</td>\n",
              "      <td>1059</td>\n",
              "    </tr>\n",
              "    <tr>\n",
              "      <th>1</th>\n",
              "      <td>2</td>\n",
              "      <td>Aesculus chinensis</td>\n",
              "      <td>Chinese_horse_chestnut</td>\n",
              "      <td>http://www.ars-grin.gov/cgi-bin/npgs/html/taxo...</td>\n",
              "      <td>1060</td>\n",
              "      <td>1122</td>\n",
              "    </tr>\n",
              "    <tr>\n",
              "      <th>2</th>\n",
              "      <td>3</td>\n",
              "      <td>Berberis anhweiensis Ahrendt</td>\n",
              "      <td>Anhui_Barberry</td>\n",
              "      <td>http://asaweb.huh.harvard.edu:8080/databases/s...</td>\n",
              "      <td>1552</td>\n",
              "      <td>1616</td>\n",
              "    </tr>\n",
              "  </tbody>\n",
              "</table>\n",
              "</div>"
            ],
            "text/plain": [
              "  label                     scientific_name  ... start_filename end_filename\n",
              "0     1  Phyllostachys edulis (Carr.) Houz.  ...           1001         1059\n",
              "1     2                  Aesculus chinensis  ...           1060         1122\n",
              "2     3        Berberis anhweiensis Ahrendt  ...           1552         1616\n",
              "\n",
              "[3 rows x 6 columns]"
            ]
          },
          "metadata": {
            "tags": []
          },
          "execution_count": 64
        }
      ]
    },
    {
      "cell_type": "code",
      "metadata": {
        "id": "Bt2RhE5xjs6x"
      },
      "source": [
        "import pathlib\n",
        "import shutil"
      ],
      "execution_count": null,
      "outputs": []
    },
    {
      "cell_type": "markdown",
      "metadata": {
        "id": "K3C2UmJUmNcJ"
      },
      "source": [
        "Create the train and test directories and folders for all respective classes inside both."
      ]
    },
    {
      "cell_type": "code",
      "metadata": {
        "id": "CCjbOLunk9Uo"
      },
      "source": [
        "for cname in df.common_name:\n",
        "  pathlib.Path('drive/MyDrive/flavia_leaves/dataset/train/'+cname).mkdir(parents=True, exist_ok=True)\n",
        "  pathlib.Path('drive/MyDrive/flavia_leaves/dataset/valid/'+cname).mkdir(parents=True, exist_ok=True)"
      ],
      "execution_count": null,
      "outputs": []
    },
    {
      "cell_type": "code",
      "metadata": {
        "colab": {
          "base_uri": "https://localhost:8080/"
        },
        "id": "n0neMwhulD1m",
        "outputId": "583a42d1-4574-4500-bb65-a2685dd9eeb3"
      },
      "source": [
        "all_images = os.listdir('drive/MyDrive/flavia_leaves/dataset/Leaves/')\n",
        "len(all_images)"
      ],
      "execution_count": null,
      "outputs": [
        {
          "output_type": "execute_result",
          "data": {
            "text/plain": [
              "1907"
            ]
          },
          "metadata": {
            "tags": []
          },
          "execution_count": 67
        }
      ]
    },
    {
      "cell_type": "code",
      "metadata": {
        "id": "_um5-ucA13_5"
      },
      "source": [
        "train_dir = 'drive/MyDrive/flavia_leaves/dataset/train'\n",
        "valid_dir = 'drive/MyDrive/flavia_leaves/dataset/valid'\n",
        "\n",
        "source_dir = 'drive/MyDrive/flavia_leaves/dataset/Leaves'"
      ],
      "execution_count": null,
      "outputs": []
    },
    {
      "cell_type": "code",
      "metadata": {
        "id": "Bo_utNzdnG4y"
      },
      "source": [
        "np.random.seed(42)\n",
        "def split_train_valid(start_fname, end_fname, train_split, common_name):\n",
        "  \n",
        "  pool=list(range(start_fname, end_fname+1))\n",
        "  np.random.shuffle(pool)\n",
        "  for i, file_number in enumerate(pool):\n",
        "    file_number = str(file_number)\n",
        "    if i < int(np.ceil(train_split*len(pool))):\n",
        "      shutil.copyfile(source_dir+'/'+file_number+'.jpg', train_dir+'/'+common_name+'/'+file_number+'.jpg')\n",
        "    else:\n",
        "      shutil.copyfile(source_dir+'/'+file_number+'.jpg', valid_dir+'/'+common_name+'/'+file_number+'.jpg')\n"
      ],
      "execution_count": null,
      "outputs": []
    },
    {
      "cell_type": "code",
      "metadata": {
        "id": "zulAiH15wMKg"
      },
      "source": [
        "i=0\n",
        "while i<len(df.index):\n",
        "  split_train_valid(df.loc[i].start_filename, df.loc[i].end_filename, train_split=0.8,\n",
        "                    common_name=df.loc[i].common_name)\n",
        "  i+=1"
      ],
      "execution_count": null,
      "outputs": []
    },
    {
      "cell_type": "code",
      "metadata": {
        "colab": {
          "base_uri": "https://localhost:8080/"
        },
        "id": "loPbEqAD6uTC",
        "outputId": "76ddde7e-cdf5-4c8f-9aa5-9c5733da57b5"
      },
      "source": [
        "df.dtypes"
      ],
      "execution_count": null,
      "outputs": [
        {
          "output_type": "execute_result",
          "data": {
            "text/plain": [
              "label              object\n",
              "scientific_name    object\n",
              "common_name        object\n",
              "url                object\n",
              "start_filename      int64\n",
              "end_filename        int64\n",
              "dtype: object"
            ]
          },
          "metadata": {
            "tags": []
          },
          "execution_count": 72
        }
      ]
    },
    {
      "cell_type": "code",
      "metadata": {
        "colab": {
          "base_uri": "https://localhost:8080/"
        },
        "id": "s-9No3ic8x4Y",
        "outputId": "eeecd1c4-2f32-428d-8242-a8fcc49a6c21"
      },
      "source": [
        "def check_parity():\n",
        "  numbers=0\n",
        "  for class_ in os.listdir(train_dir):\n",
        "    numbers+= len(os.listdir(train_dir+'/'+class_))\n",
        "  for class_ in os.listdir(valid_dir):\n",
        "    numbers+= len(os.listdir(valid_dir+'/'+class_))\n",
        "  if numbers==len(os.listdir(source_dir)):\n",
        "    print(numbers)\n",
        "    print(len(os.listdir(source_dir)))\n",
        "    print('Train valid split went perfectly')\n",
        "  else:\n",
        "    print('Train valid split was not perfect')\n",
        "\n",
        "check_parity()"
      ],
      "execution_count": null,
      "outputs": [
        {
          "output_type": "stream",
          "text": [
            "1907\n",
            "1907\n",
            "Train valid split went perfectly\n"
          ],
          "name": "stdout"
        }
      ]
    },
    {
      "cell_type": "code",
      "metadata": {
        "id": "jyMySF5WBCsC"
      },
      "source": [
        "import cv2 \n",
        "import matplotlib.pyplot as plt\n",
        "import matplotlib.image as mpimg"
      ],
      "execution_count": null,
      "outputs": []
    },
    {
      "cell_type": "markdown",
      "metadata": {
        "id": "ceQz9JxAz23d"
      },
      "source": [
        "The `remove_background` function is for removing backgrounds for user given images. As the flavia dataset contains leaf images with white background, It will be easier for the model if the user inputs are in white background as well."
      ]
    },
    {
      "cell_type": "code",
      "metadata": {
        "id": "458_fqylcQ88"
      },
      "source": [
        "def remove_background(img_path):\n",
        "  test_img_path = img_path\n",
        "  \n",
        "  #Reading the image\n",
        "  main_img = cv2.imread(test_img_path)\n",
        "  img = cv2.cvtColor(main_img, cv2.COLOR_BGR2RGB)\n",
        "  #plt.imshow(img,cmap=\"Greys_r\")\n",
        "\n",
        "  #Resizing the image to 1600,1200\n",
        "  resized_image = cv2.resize(img, (1600, 1200))\n",
        "  #plt.imshow(resized_image,cmap=\"Greys_r\")\n",
        "\n",
        "  y,x,_ = img.shape\n",
        "\n",
        "  #Converting image into grayscale\n",
        "  gs = cv2.cvtColor(resized_image,cv2.COLOR_RGB2GRAY)\n",
        "  #plt.imshow(gs,cmap=\"Greys_r\")\n",
        "\n",
        "  #Smoothing image using Guassian filter of size (55,55).\n",
        "  blur = cv2.GaussianBlur(gs, (55,55),0)\n",
        "  #plt.imshow(blur,cmap=\"Greys_r\")\n",
        "\n",
        "  #Adaptive image thresholding using Otsu's thresholding method¶\n",
        "  ret_otsu,im_bw_otsu = cv2.threshold(blur,0,255,cv2.THRESH_BINARY_INV+cv2.THRESH_OTSU)\n",
        "  #plt.imshow(im_bw_otsu,cmap='Greys_r')\n",
        "\n",
        "  #Closing of holes using Morphological Transformation¶\n",
        "  #Performed so as to close any holes present in the leaf\n",
        "  kernel = np.ones((50,50),np.uint8)\n",
        "  closing = cv2.morphologyEx(im_bw_otsu, cv2.MORPH_CLOSE, kernel)\n",
        "  #plt.imshow(closing,cmap=\"Greys_r\")\n",
        "\n",
        "  #Finding contours\n",
        "  contours, hierarchy = cv2.findContours(closing,cv2.RETR_TREE,cv2.CHAIN_APPROX_SIMPLE)\n",
        "\n",
        "  #Finding the correct leaf contour from the list of contours\n",
        "  #The following function finds the correct leaf contour by taking any coordinate point of the leaf\n",
        "  #(default - center point) and checks whether the current contour contains that point or not.\n",
        "  #Returns the index of the correct contour.\n",
        "  def find_contour(cnts):\n",
        "    contains = []\n",
        "    y_ri,x_ri, _ = resized_image.shape\n",
        "    for cc in cnts:\n",
        "        yn = cv2.pointPolygonTest(cc,(x_ri//2,y_ri//2),False)\n",
        "        contains.append(yn)\n",
        "\n",
        "    val = [contains.index(temp) for temp in contains if temp>0]\n",
        "    return val[0]\n",
        "\n",
        "  #Creating mask image for background subtraction using leaf contour\n",
        "  black_img = np.empty([1200,1600,3],dtype=np.uint8)\n",
        "  black_img.fill(0)\n",
        "  #plt.imshow(black_img,cmap=\"Greys_r\")\n",
        "\n",
        "  index = find_contour(contours)\n",
        "  cnt = contours[index]\n",
        "  mask = cv2.drawContours(black_img, [cnt] , 0, (255,255,255), -1)\n",
        "  #plt.imshow(mask)\n",
        "\n",
        "  #Performing masking operation on the original image¶\n",
        "  maskedImg = cv2.bitwise_and(resized_image, mask)\n",
        "  white_pix = [255,255,255]\n",
        "  black_pix = [0,0,0]\n",
        "\n",
        "  final_img = maskedImg\n",
        "  h,w,channels = final_img.shape\n",
        "  for x in range(0,w):\n",
        "    for y in range(0,h):\n",
        "      channels_xy = final_img[y,x]\n",
        "      if all(channels_xy == black_pix):    \n",
        "        final_img[y,x] = white_pix\n",
        "\n",
        "  #Background subtracted image\n",
        "  return final_img"
      ],
      "execution_count": null,
      "outputs": []
    },
    {
      "cell_type": "code",
      "metadata": {
        "id": "XIwzx3Gge8Ot"
      },
      "source": [
        "image = remove_background('drive/MyDrive/leaf/leaves.jpg')"
      ],
      "execution_count": null,
      "outputs": []
    },
    {
      "cell_type": "code",
      "metadata": {
        "colab": {
          "base_uri": "https://localhost:8080/",
          "height": 254
        },
        "id": "bSWIJoO6757m",
        "outputId": "d146c025-dbfe-4b51-b901-85de9463f7eb"
      },
      "source": [
        "fig, (ax1, ax2) = plt.subplots(nrows=1, ncols=2, figsize=(10,5))\n",
        "ax1.imshow(mpimg.imread('drive/MyDrive/leaf/leaves.jpg'))\n",
        "ax1.set(title='Unprocessed Image')\n",
        "ax2.imshow(image)\n",
        "ax2.set(title='Processed Image');"
      ],
      "execution_count": null,
      "outputs": [
        {
          "output_type": "display_data",
          "data": {
            "image/png": "[encoded data removed]",
            "text/plain": [
              "<Figure size 720x360 with 2 Axes>"
            ]
          },
          "metadata": {
            "tags": [],
            "needs_background": "light"
          }
        }
      ]
    },
    {
      "cell_type": "code",
      "metadata": {
        "id": "qhzTN4sgpy1n"
      },
      "source": [
        "from google.colab.patches import cv2_imshow"
      ],
      "execution_count": null,
      "outputs": []
    },
    {
      "cell_type": "code",
      "metadata": {
        "id": "6WkfsBJv64He"
      },
      "source": [
        "import tensorflow as tf\n",
        "from tensorflow import keras\n",
        "from keras.preprocessing.image import ImageDataGenerator"
      ],
      "execution_count": null,
      "outputs": []
    },
    {
      "cell_type": "code",
      "metadata": {
        "id": "ld0ELBRv34M5"
      },
      "source": [
        "train_datagen = ImageDataGenerator(rescale=1.0/255.0, rotation_range=40,\n",
        "                                   height_shift_range=0.2, width_shift_range=0.2,\n",
        "                                   shear_range=0.2, fill_mode='nearest')"
      ],
      "execution_count": null,
      "outputs": []
    },
    {
      "cell_type": "code",
      "metadata": {
        "id": "0JX7Ccmd7sIs"
      },
      "source": [
        "valid_datagen = ImageDataGenerator(rescale=1.0/255.)"
      ],
      "execution_count": null,
      "outputs": []
    },
    {
      "cell_type": "code",
      "metadata": {
        "colab": {
          "base_uri": "https://localhost:8080/"
        },
        "id": "eEaRvKUu7wh0",
        "outputId": "34cac9f6-f2a1-4e07-f78d-27dc40530a55"
      },
      "source": [
        "train_generator = train_datagen.flow_from_directory(train_dir, target_size=(224,224),\n",
        "                                                    class_mode='categorical', batch_size=32)\n",
        "valid_generator = valid_datagen.flow_from_directory(valid_dir, target_size=(224,224),\n",
        "                                                    class_mode='categorical', batch_size=32)"
      ],
      "execution_count": null,
      "outputs": [
        {
          "output_type": "stream",
          "text": [
            "Found 1536 images belonging to 32 classes.\n",
            "Found 371 images belonging to 32 classes.\n"
          ],
          "name": "stdout"
        }
      ]
    },
    {
      "cell_type": "code",
      "metadata": {
        "id": "W_1jAZRO-qCh",
        "colab": {
          "base_uri": "https://localhost:8080/"
        },
        "outputId": "08f99542-d403-4553-91c2-1524c9507ea6"
      },
      "source": [
        "indices = train_generator.class_indices\n",
        "indices ={values : keys for keys,values in indices.items()}\n",
        "indices"
      ],
      "execution_count": null,
      "outputs": [
        {
          "output_type": "execute_result",
          "data": {
            "text/plain": [
              "{0: 'Anhui_Barberry',\n",
              " 1: \"Beale's_barberry\",\n",
              " 2: 'Big-fruited_Holly',\n",
              " 3: 'Canadian_poplar',\n",
              " 4: 'Chinese_Toon',\n",
              " 5: 'Chinese_cinnamon',\n",
              " 6: 'Chinese_horse_chestnut',\n",
              " 7: 'Chinese_redbud',\n",
              " 8: 'Chinese_tulip_tree',\n",
              " 9: 'Crape_myrtle_Crepe_myrtle',\n",
              " 10: 'Ford_Woodlotus',\n",
              " 11: 'Glossy_Privet',\n",
              " 12: 'Japan_Arrowwood',\n",
              " 13: 'Japanese_Flowering_Cherry',\n",
              " 14: 'Japanese_cheesewood',\n",
              " 15: 'Japanese_maple',\n",
              " 16: 'Nanmu',\n",
              " 17: 'camphortree',\n",
              " 18: 'castor_aralia',\n",
              " 19: 'deodar',\n",
              " 20: 'ginkgo_maidenhair_tree',\n",
              " 21: 'goldenrain_tree',\n",
              " 22: 'oleander',\n",
              " 23: 'peach',\n",
              " 24: 'pubescent_bamboo',\n",
              " 25: 'southern_magnolia',\n",
              " 26: 'sweet_osmanthus',\n",
              " 27: 'tangerine',\n",
              " 28: 'trident_maple',\n",
              " 29: 'true_indigo',\n",
              " 30: 'wintersweet',\n",
              " 31: 'yew_plum_pine'}"
            ]
          },
          "metadata": {
            "tags": []
          },
          "execution_count": 29
        }
      ]
    },
    {
      "cell_type": "code",
      "metadata": {
        "id": "8ffLK-GLvgsE"
      },
      "source": [
        "from keras.optimizers import Adam"
      ],
      "execution_count": null,
      "outputs": []
    },
    {
      "cell_type": "code",
      "metadata": {
        "id": "hCqhTT0NJcRN"
      },
      "source": [
        "from keras.applications.mobilenet_v2 import MobileNetV2"
      ],
      "execution_count": null,
      "outputs": []
    },
    {
      "cell_type": "code",
      "metadata": {
        "id": "_QcJkcGvYyLy",
        "colab": {
          "base_uri": "https://localhost:8080/"
        },
        "outputId": "6fc39ecc-c010-43ec-c5c6-d9b0afcf04e9"
      },
      "source": [
        "mobile = tf.keras.applications.mobilenet.MobileNet()"
      ],
      "execution_count": null,
      "outputs": [
        {
          "output_type": "stream",
          "text": [
            "Downloading data from https://storage.googleapis.com/tensorflow/keras-applications/mobilenet/mobilenet_1_0_224_tf.h5\n",
            "17227776/17225924 [==============================] - 0s 0us/step\n"
          ],
          "name": "stdout"
        }
      ]
    },
    {
      "cell_type": "code",
      "metadata": {
        "colab": {
          "base_uri": "https://localhost:8080/"
        },
        "id": "2q2Poz94fh1M",
        "outputId": "9b0ef576-cffd-4eb8-9d64-1ecce61ed66f"
      },
      "source": [
        "mobile.summary()"
      ],
      "execution_count": null,
      "outputs": [
        {
          "output_type": "stream",
          "text": [
            "Model: \"mobilenet_1.00_224\"\n",
            "_________________________________________________________________\n",
            "Layer (type)                 Output Shape              Param #   \n",
            "=================================================================\n",
            "input_1 (InputLayer)         [(None, 224, 224, 3)]     0         \n",
            "_________________________________________________________________\n",
            "conv1 (Conv2D)               (None, 112, 112, 32)      864       \n",
            "_________________________________________________________________\n",
            "conv1_bn (BatchNormalization (None, 112, 112, 32)      128       \n",
            "_________________________________________________________________\n",
            "conv1_relu (ReLU)            (None, 112, 112, 32)      0         \n",
            "_________________________________________________________________\n",
            "conv_dw_1 (DepthwiseConv2D)  (None, 112, 112, 32)      288       \n",
            "_________________________________________________________________\n",
            "conv_dw_1_bn (BatchNormaliza (None, 112, 112, 32)      128       \n",
            "_________________________________________________________________\n",
            "conv_dw_1_relu (ReLU)        (None, 112, 112, 32)      0         \n",
            "_________________________________________________________________\n",
            "conv_pw_1 (Conv2D)           (None, 112, 112, 64)      2048      \n",
            "_________________________________________________________________\n",
            "conv_pw_1_bn (BatchNormaliza (None, 112, 112, 64)      256       \n",
            "_________________________________________________________________\n",
            "conv_pw_1_relu (ReLU)        (None, 112, 112, 64)      0         \n",
            "_________________________________________________________________\n",
            "conv_pad_2 (ZeroPadding2D)   (None, 113, 113, 64)      0         \n",
            "_________________________________________________________________\n",
            "conv_dw_2 (DepthwiseConv2D)  (None, 56, 56, 64)        576       \n",
            "_________________________________________________________________\n",
            "conv_dw_2_bn (BatchNormaliza (None, 56, 56, 64)        256       \n",
            "_________________________________________________________________\n",
            "conv_dw_2_relu (ReLU)        (None, 56, 56, 64)        0         \n",
            "_________________________________________________________________\n",
            "conv_pw_2 (Conv2D)           (None, 56, 56, 128)       8192      \n",
            "_________________________________________________________________\n",
            "conv_pw_2_bn (BatchNormaliza (None, 56, 56, 128)       512       \n",
            "_________________________________________________________________\n",
            "conv_pw_2_relu (ReLU)        (None, 56, 56, 128)       0         \n",
            "_________________________________________________________________\n",
            "conv_dw_3 (DepthwiseConv2D)  (None, 56, 56, 128)       1152      \n",
            "_________________________________________________________________\n",
            "conv_dw_3_bn (BatchNormaliza (None, 56, 56, 128)       512       \n",
            "_________________________________________________________________\n",
            "conv_dw_3_relu (ReLU)        (None, 56, 56, 128)       0         \n",
            "_________________________________________________________________\n",
            "conv_pw_3 (Conv2D)           (None, 56, 56, 128)       16384     \n",
            "_________________________________________________________________\n",
            "conv_pw_3_bn (BatchNormaliza (None, 56, 56, 128)       512       \n",
            "_________________________________________________________________\n",
            "conv_pw_3_relu (ReLU)        (None, 56, 56, 128)       0         \n",
            "_________________________________________________________________\n",
            "conv_pad_4 (ZeroPadding2D)   (None, 57, 57, 128)       0         \n",
            "_________________________________________________________________\n",
            "conv_dw_4 (DepthwiseConv2D)  (None, 28, 28, 128)       1152      \n",
            "_________________________________________________________________\n",
            "conv_dw_4_bn (BatchNormaliza (None, 28, 28, 128)       512       \n",
            "_________________________________________________________________\n",
            "conv_dw_4_relu (ReLU)        (None, 28, 28, 128)       0         \n",
            "_________________________________________________________________\n",
            "conv_pw_4 (Conv2D)           (None, 28, 28, 256)       32768     \n",
            "_________________________________________________________________\n",
            "conv_pw_4_bn (BatchNormaliza (None, 28, 28, 256)       1024      \n",
            "_________________________________________________________________\n",
            "conv_pw_4_relu (ReLU)        (None, 28, 28, 256)       0         \n",
            "_________________________________________________________________\n",
            "conv_dw_5 (DepthwiseConv2D)  (None, 28, 28, 256)       2304      \n",
            "_________________________________________________________________\n",
            "conv_dw_5_bn (BatchNormaliza (None, 28, 28, 256)       1024      \n",
            "_________________________________________________________________\n",
            "conv_dw_5_relu (ReLU)        (None, 28, 28, 256)       0         \n",
            "_________________________________________________________________\n",
            "conv_pw_5 (Conv2D)           (None, 28, 28, 256)       65536     \n",
            "_________________________________________________________________\n",
            "conv_pw_5_bn (BatchNormaliza (None, 28, 28, 256)       1024      \n",
            "_________________________________________________________________\n",
            "conv_pw_5_relu (ReLU)        (None, 28, 28, 256)       0         \n",
            "_________________________________________________________________\n",
            "conv_pad_6 (ZeroPadding2D)   (None, 29, 29, 256)       0         \n",
            "_________________________________________________________________\n",
            "conv_dw_6 (DepthwiseConv2D)  (None, 14, 14, 256)       2304      \n",
            "_________________________________________________________________\n",
            "conv_dw_6_bn (BatchNormaliza (None, 14, 14, 256)       1024      \n",
            "_________________________________________________________________\n",
            "conv_dw_6_relu (ReLU)        (None, 14, 14, 256)       0         \n",
            "_________________________________________________________________\n",
            "conv_pw_6 (Conv2D)           (None, 14, 14, 512)       131072    \n",
            "_________________________________________________________________\n",
            "conv_pw_6_bn (BatchNormaliza (None, 14, 14, 512)       2048      \n",
            "_________________________________________________________________\n",
            "conv_pw_6_relu (ReLU)        (None, 14, 14, 512)       0         \n",
            "_________________________________________________________________\n",
            "conv_dw_7 (DepthwiseConv2D)  (None, 14, 14, 512)       4608      \n",
            "_________________________________________________________________\n",
            "conv_dw_7_bn (BatchNormaliza (None, 14, 14, 512)       2048      \n",
            "_________________________________________________________________\n",
            "conv_dw_7_relu (ReLU)        (None, 14, 14, 512)       0         \n",
            "_________________________________________________________________\n",
            "conv_pw_7 (Conv2D)           (None, 14, 14, 512)       262144    \n",
            "_________________________________________________________________\n",
            "conv_pw_7_bn (BatchNormaliza (None, 14, 14, 512)       2048      \n",
            "_________________________________________________________________\n",
            "conv_pw_7_relu (ReLU)        (None, 14, 14, 512)       0         \n",
            "_________________________________________________________________\n",
            "conv_dw_8 (DepthwiseConv2D)  (None, 14, 14, 512)       4608      \n",
            "_________________________________________________________________\n",
            "conv_dw_8_bn (BatchNormaliza (None, 14, 14, 512)       2048      \n",
            "_________________________________________________________________\n",
            "conv_dw_8_relu (ReLU)        (None, 14, 14, 512)       0         \n",
            "_________________________________________________________________\n",
            "conv_pw_8 (Conv2D)           (None, 14, 14, 512)       262144    \n",
            "_________________________________________________________________\n",
            "conv_pw_8_bn (BatchNormaliza (None, 14, 14, 512)       2048      \n",
            "_________________________________________________________________\n",
            "conv_pw_8_relu (ReLU)        (None, 14, 14, 512)       0         \n",
            "_________________________________________________________________\n",
            "conv_dw_9 (DepthwiseConv2D)  (None, 14, 14, 512)       4608      \n",
            "_________________________________________________________________\n",
            "conv_dw_9_bn (BatchNormaliza (None, 14, 14, 512)       2048      \n",
            "_________________________________________________________________\n",
            "conv_dw_9_relu (ReLU)        (None, 14, 14, 512)       0         \n",
            "_________________________________________________________________\n",
            "conv_pw_9 (Conv2D)           (None, 14, 14, 512)       262144    \n",
            "_________________________________________________________________\n",
            "conv_pw_9_bn (BatchNormaliza (None, 14, 14, 512)       2048      \n",
            "_________________________________________________________________\n",
            "conv_pw_9_relu (ReLU)        (None, 14, 14, 512)       0         \n",
            "_________________________________________________________________\n",
            "conv_dw_10 (DepthwiseConv2D) (None, 14, 14, 512)       4608      \n",
            "_________________________________________________________________\n",
            "conv_dw_10_bn (BatchNormaliz (None, 14, 14, 512)       2048      \n",
            "_________________________________________________________________\n",
            "conv_dw_10_relu (ReLU)       (None, 14, 14, 512)       0         \n",
            "_________________________________________________________________\n",
            "conv_pw_10 (Conv2D)          (None, 14, 14, 512)       262144    \n",
            "_________________________________________________________________\n",
            "conv_pw_10_bn (BatchNormaliz (None, 14, 14, 512)       2048      \n",
            "_________________________________________________________________\n",
            "conv_pw_10_relu (ReLU)       (None, 14, 14, 512)       0         \n",
            "_________________________________________________________________\n",
            "conv_dw_11 (DepthwiseConv2D) (None, 14, 14, 512)       4608      \n",
            "_________________________________________________________________\n",
            "conv_dw_11_bn (BatchNormaliz (None, 14, 14, 512)       2048      \n",
            "_________________________________________________________________\n",
            "conv_dw_11_relu (ReLU)       (None, 14, 14, 512)       0         \n",
            "_________________________________________________________________\n",
            "conv_pw_11 (Conv2D)          (None, 14, 14, 512)       262144    \n",
            "_________________________________________________________________\n",
            "conv_pw_11_bn (BatchNormaliz (None, 14, 14, 512)       2048      \n",
            "_________________________________________________________________\n",
            "conv_pw_11_relu (ReLU)       (None, 14, 14, 512)       0         \n",
            "_________________________________________________________________\n",
            "conv_pad_12 (ZeroPadding2D)  (None, 15, 15, 512)       0         \n",
            "_________________________________________________________________\n",
            "conv_dw_12 (DepthwiseConv2D) (None, 7, 7, 512)         4608      \n",
            "_________________________________________________________________\n",
            "conv_dw_12_bn (BatchNormaliz (None, 7, 7, 512)         2048      \n",
            "_________________________________________________________________\n",
            "conv_dw_12_relu (ReLU)       (None, 7, 7, 512)         0         \n",
            "_________________________________________________________________\n",
            "conv_pw_12 (Conv2D)          (None, 7, 7, 1024)        524288    \n",
            "_________________________________________________________________\n",
            "conv_pw_12_bn (BatchNormaliz (None, 7, 7, 1024)        4096      \n",
            "_________________________________________________________________\n",
            "conv_pw_12_relu (ReLU)       (None, 7, 7, 1024)        0         \n",
            "_________________________________________________________________\n",
            "conv_dw_13 (DepthwiseConv2D) (None, 7, 7, 1024)        9216      \n",
            "_________________________________________________________________\n",
            "conv_dw_13_bn (BatchNormaliz (None, 7, 7, 1024)        4096      \n",
            "_________________________________________________________________\n",
            "conv_dw_13_relu (ReLU)       (None, 7, 7, 1024)        0         \n",
            "_________________________________________________________________\n",
            "conv_pw_13 (Conv2D)          (None, 7, 7, 1024)        1048576   \n",
            "_________________________________________________________________\n",
            "conv_pw_13_bn (BatchNormaliz (None, 7, 7, 1024)        4096      \n",
            "_________________________________________________________________\n",
            "conv_pw_13_relu (ReLU)       (None, 7, 7, 1024)        0         \n",
            "_________________________________________________________________\n",
            "global_average_pooling2d (Gl (None, 1024)              0         \n",
            "_________________________________________________________________\n",
            "reshape_1 (Reshape)          (None, 1, 1, 1024)        0         \n",
            "_________________________________________________________________\n",
            "dropout (Dropout)            (None, 1, 1, 1024)        0         \n",
            "_________________________________________________________________\n",
            "conv_preds (Conv2D)          (None, 1, 1, 1000)        1025000   \n",
            "_________________________________________________________________\n",
            "reshape_2 (Reshape)          (None, 1000)              0         \n",
            "_________________________________________________________________\n",
            "predictions (Activation)     (None, 1000)              0         \n",
            "=================================================================\n",
            "Total params: 4,253,864\n",
            "Trainable params: 4,231,976\n",
            "Non-trainable params: 21,888\n",
            "_________________________________________________________________\n"
          ],
          "name": "stdout"
        }
      ]
    },
    {
      "cell_type": "code",
      "metadata": {
        "id": "krHToslIgvyy"
      },
      "source": [
        "x = mobile.layers[-6].output"
      ],
      "execution_count": null,
      "outputs": []
    },
    {
      "cell_type": "code",
      "metadata": {
        "id": "0P65yS04g0Pw"
      },
      "source": [
        "output = keras.layers.Dense(units=32, activation='softmax')(x)"
      ],
      "execution_count": null,
      "outputs": []
    },
    {
      "cell_type": "code",
      "metadata": {
        "id": "1MU97xc5g21J"
      },
      "source": [
        "mobile_model = keras.Model(inputs=mobile.input, outputs=output)"
      ],
      "execution_count": null,
      "outputs": []
    },
    {
      "cell_type": "code",
      "metadata": {
        "id": "u5mTkJzlhJ-H"
      },
      "source": [
        "for layer in mobile_model.layers[:-23]:\n",
        "    layer.trainable = False"
      ],
      "execution_count": null,
      "outputs": []
    },
    {
      "cell_type": "code",
      "metadata": {
        "id": "2dB5lbklhK4T"
      },
      "source": [
        "mobile_model.compile(optimizer=Adam(learning_rate=0.0001), loss='categorical_crossentropy', metrics=['accuracy'])"
      ],
      "execution_count": null,
      "outputs": []
    },
    {
      "cell_type": "code",
      "metadata": {
        "colab": {
          "base_uri": "https://localhost:8080/"
        },
        "id": "c_NabhfUhdte",
        "outputId": "e89151cc-b7ae-4761-a9ef-6d2e0ee2aca1"
      },
      "source": [
        "mobile_history = mobile_model.fit_generator(train_generator, steps_per_epoch=46, epochs=20, verbose=2, validation_data=valid_generator,\n",
        "                              validation_steps=12)"
      ],
      "execution_count": null,
      "outputs": [
        {
          "output_type": "stream",
          "text": [
            "/usr/local/lib/python3.6/dist-packages/tensorflow/python/keras/engine/training.py:1844: UserWarning: `Model.fit_generator` is deprecated and will be removed in a future version. Please use `Model.fit`, which supports generators.\n",
            "  warnings.warn('`Model.fit_generator` is deprecated and '\n"
          ],
          "name": "stderr"
        },
        {
          "output_type": "stream",
          "text": [
            "Epoch 1/20\n",
            "46/46 - 1136s - loss: 1.5541 - accuracy: 0.6393 - val_loss: 2.3792 - val_accuracy: 0.3100\n",
            "Epoch 2/20\n",
            "46/46 - 92s - loss: 0.2482 - accuracy: 0.9742 - val_loss: 1.1735 - val_accuracy: 0.6388\n",
            "Epoch 3/20\n",
            "46/46 - 74s - loss: 0.1208 - accuracy: 0.9912 - val_loss: 0.5060 - val_accuracy: 0.8787\n",
            "Epoch 4/20\n",
            "46/46 - 74s - loss: 0.0803 - accuracy: 0.9932 - val_loss: 0.2133 - val_accuracy: 0.9596\n",
            "Epoch 5/20\n",
            "46/46 - 74s - loss: 0.0550 - accuracy: 0.9986 - val_loss: 0.0917 - val_accuracy: 0.9865\n",
            "Epoch 6/20\n",
            "46/46 - 74s - loss: 0.0455 - accuracy: 0.9939 - val_loss: 0.0665 - val_accuracy: 0.9892\n",
            "Epoch 7/20\n",
            "46/46 - 74s - loss: 0.0336 - accuracy: 0.9986 - val_loss: 0.0431 - val_accuracy: 0.9919\n",
            "Epoch 8/20\n",
            "46/46 - 74s - loss: 0.0222 - accuracy: 0.9993 - val_loss: 0.0301 - val_accuracy: 0.9973\n",
            "Epoch 9/20\n",
            "46/46 - 73s - loss: 0.0220 - accuracy: 0.9986 - val_loss: 0.0250 - val_accuracy: 0.9946\n",
            "Epoch 10/20\n",
            "46/46 - 73s - loss: 0.0213 - accuracy: 0.9980 - val_loss: 0.0191 - val_accuracy: 0.9973\n",
            "Epoch 11/20\n",
            "46/46 - 72s - loss: 0.0205 - accuracy: 0.9973 - val_loss: 0.0182 - val_accuracy: 0.9973\n",
            "Epoch 12/20\n",
            "46/46 - 71s - loss: 0.0177 - accuracy: 0.9986 - val_loss: 0.0219 - val_accuracy: 0.9946\n",
            "Epoch 13/20\n",
            "46/46 - 71s - loss: 0.0126 - accuracy: 0.9993 - val_loss: 0.0142 - val_accuracy: 0.9973\n",
            "Epoch 14/20\n",
            "46/46 - 70s - loss: 0.0139 - accuracy: 1.0000 - val_loss: 0.0169 - val_accuracy: 0.9946\n",
            "Epoch 15/20\n",
            "46/46 - 70s - loss: 0.0108 - accuracy: 0.9993 - val_loss: 0.0164 - val_accuracy: 0.9973\n",
            "Epoch 16/20\n",
            "46/46 - 70s - loss: 0.0089 - accuracy: 1.0000 - val_loss: 0.0146 - val_accuracy: 0.9973\n",
            "Epoch 17/20\n",
            "46/46 - 70s - loss: 0.0092 - accuracy: 0.9993 - val_loss: 0.0139 - val_accuracy: 0.9973\n",
            "Epoch 18/20\n",
            "46/46 - 71s - loss: 0.0096 - accuracy: 1.0000 - val_loss: 0.0125 - val_accuracy: 0.9946\n",
            "Epoch 19/20\n",
            "46/46 - 73s - loss: 0.0076 - accuracy: 1.0000 - val_loss: 0.0106 - val_accuracy: 0.9973\n",
            "Epoch 20/20\n",
            "46/46 - 73s - loss: 0.0067 - accuracy: 1.0000 - val_loss: 0.0104 - val_accuracy: 0.9973\n"
          ],
          "name": "stdout"
        }
      ]
    },
    {
      "cell_type": "code",
      "metadata": {
        "id": "COJ4pImxxl4J"
      },
      "source": [
        "mobile_model.save('drive/MyDrive/flavia_leaves/models/mobilenet_model.h5')"
      ],
      "execution_count": null,
      "outputs": []
    },
    {
      "cell_type": "code",
      "metadata": {
        "colab": {
          "base_uri": "https://localhost:8080/",
          "height": 404
        },
        "id": "CPIG-Hr4ya7X",
        "outputId": "00d2d0f3-54e1-4b10-a402-1cffbfda8049"
      },
      "source": [
        "fig, ax = plt.subplots(figsize=(8,6))\n",
        "ax.plot(mobile_history.history['accuracy'], label='Training Accuracy')\n",
        "ax.plot(mobile_history.history['val_accuracy'], label='Validation Accuracy')\n",
        "ax.set(xlabel='Epochs', ylabel='Accuracy', title='Accuracy of Mobilenet Model')\n",
        "ax.legend();"
      ],
      "execution_count": null,
      "outputs": [
        {
          "output_type": "display_data",
          "data": {
            "image/png": "[encoded data removed]",
            "text/plain": [
              "<Figure size 576x432 with 1 Axes>"
            ]
          },
          "metadata": {
            "tags": [],
            "needs_background": "light"
          }
        }
      ]
    },
    {
      "cell_type": "code",
      "metadata": {
        "colab": {
          "base_uri": "https://localhost:8080/",
          "height": 404
        },
        "id": "SjFk4-jzyaX9",
        "outputId": "72451f74-25f8-4744-d4bf-aa4f25c9113e"
      },
      "source": [
        "fig, ax = plt.subplots(figsize=(8,6))\n",
        "ax.plot(mobile_history.history['loss'], label='Training Loss')\n",
        "ax.plot(mobile_history.history['val_loss'], label='Validation Loss')\n",
        "ax.set(xlabel='Loss', ylabel='Epochs', title='Loss of Mobilenet Model')\n",
        "ax.legend();"
      ],
      "execution_count": null,
      "outputs": [
        {
          "output_type": "display_data",
          "data": {
            "image/png": "[encoded data removed]",
            "text/plain": [
              "<Figure size 576x432 with 1 Axes>"
            ]
          },
          "metadata": {
            "tags": [],
            "needs_background": "light"
          }
        }
      ]
    }
  ]
}